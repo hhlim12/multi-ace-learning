{
 "cells": [
  {
   "cell_type": "markdown",
   "metadata": {},
   "source": [
    "# 🧭 01 – Spherical Harmonics\n",
    "\n",
    "Spherical harmonics \\( Y_{\\ell m}(\\theta, \\phi) \\) are the angular part of the solutions to **Laplace’s equation** in spherical coordinates:\n",
    "\n",
    "\\[\n",
    "\\nabla^2 f(r, \\theta, \\phi) = 0 \\Rightarrow f(r, \\theta, \\phi) = \\sum_{\\ell,m} A_{\\ell m} r^\\ell Y_{\\ell m}(\\theta, \\phi)\n",
    "\\]\n",
    "\n",
    "They form an **orthonormal basis** on the sphere and describe angular patterns of physical quantities—such as atomic neighbor densities in the **Atomic Cluster Expansion (ACE)** and features in **E(3)-equivariant neural networks (MACE, NequIP, etc.)**.\n",
    "\n",
    "---\n",
    "## 🔢 Mathematical Definition\n",
    "\n",
    "\\[\n",
    "Y_{\\ell m}(\\theta, \\phi) = \\sqrt{\\frac{(2\\ell + 1)}{4\\pi} \\frac{(\\ell - m)!}{(\\ell + m)!}} P_{\\ell}^m(\\cos \\theta) e^{i m \\phi}\n",
    "\\]\n",
    "\n",
    "where \\( P_{\\ell}^m \\) are the **associated Legendre polynomials**, and \\( \\ell \\ge 0,\\ -\\ell \\le m \\le \\ell \\)."
   ]
  },
  {
   "cell_type": "code",
   "metadata": {},
   "source": [
    "import numpy as np\n",
    "import matplotlib.pyplot as plt\n",
    "from scipy.special import sph_harm\n",
    "from ipywidgets import interact, IntSlider\n",
    "\n",
    "def plot_spherical_harmonic(l=3, m=2, cmap='viridis'):\n",
    "    # Create grid\n",
    "    theta = np.linspace(0, np.pi, 300)\n",
    "    phi = np.linspace(0, 2*np.pi, 300)\n",
    "    theta, phi = np.meshgrid(theta, phi)\n",
    "\n",
    "    # Compute spherical harmonic\n",
    "    Ylm = sph_harm(m, l, phi, theta)\n",
    "    Ylm_abs = np.abs(Ylm)\n",
    "\n",
    "    # Convert to Cartesian coordinates\n",
    "    x = Ylm_abs * np.sin(theta) * np.cos(phi)\n",
    "    y = Ylm_abs * np.sin(theta) * np.sin(phi)\n",
    "    z = Ylm_abs * np.cos(theta)\n",
    "\n",
    "    # Plot\n",
    "    fig = plt.figure(figsize=(7,6))\n",
    "    ax = fig.add_subplot(111, projection=\"3d\")\n",
    "    ax.plot_surface(x, y, z, rstride=3, cstride=3,\n",
    "                    facecolors=plt.cm.get_cmap(cmap)(Ylm_abs / Ylm_abs.max()),\n",
    "                    linewidth=0, antialiased=False, shade=True)\n",
    "\n",
    "    ax.set_title(f\"Spherical Harmonic |Y({l},{m})|\", fontsize=14)\n",
    "    ax.set_box_aspect([1,1,1])\n",
    "    ax.axis('off')\n",
    "    plt.show()\n",
    "\n",
    "interact(plot_spherical_harmonic,\n",
    "         l=IntSlider(value=3, min=0, max=6, step=1),\n",
    "         m=IntSlider(value=2, min=-6, max=6, step=1));"
   ]
  },
  {
   "cell_type": "markdown",
   "metadata": {},
   "source": [
    "---\n",
    "## 🎨 Real and Imaginary Parts\n",
    "\n",
    "The spherical harmonics are complex functions. The **real** and **imaginary** parts correspond to cosine and sine components of angular variation."
   ]
  },
  {
   "cell_type": "code",
   "metadata": {},
   "source": [
    "l, m = 3, 2\n",
    "theta = np.linspace(0, np.pi, 200)\n",
    "phi = np.linspace(0, 2*np.pi, 200)\n",
    "theta, phi = np.meshgrid(theta, phi)\n",
    "\n",
    "Ylm = sph_harm(m, l, phi, theta)\n",
    "Y_real, Y_imag = np.real(Ylm), np.imag(Ylm)\n",
    "\n",
    "fig, axs = plt.subplots(1,2, figsize=(10,4), subplot_kw={'projection': 'polar'})\n",
    "axs[0].contourf(phi, theta, Y_real, 100, cmap='coolwarm')\n",
    "axs[0].set_title('Re[Yₗₘ(θ, φ)]')\n",
    "axs[1].contourf(phi, theta, Y_imag, 100, cmap='coolwarm')\n",
    "axs[1].set_title('Im[Yₗₘ(θ, φ)]')\n",
    "plt.show()"
   ]
  },
  {
   "cell_type": "markdown",
   "metadata": {},
   "source": [
    "---\n",
    "## ✅ Orthogonality Check\n",
    "\n",
    "The orthogonality relation ensures that different \\( (\\ell,m) \\) channels are independent basis functions:\n",
    "\n",
    "\\[\n",
    "\\int_0^{2\\pi}\\!\\int_0^\\pi Y_{\\ell m}^*(\\theta, \\phi)\\, Y_{\\ell' m'}(\\theta, \\phi)\\, \\sin\\theta\\, d\\theta\\, d\\phi = \\delta_{\\ell\\ell'}\\,\\delta_{mm'}.\n",
    "\\]"
   ]
  },
  {
   "cell_type": "code",
   "metadata": {},
   "source": [
    "def orthogonality(l1, m1, l2, m2, N=300):\n",
    "    theta = np.linspace(0, np.pi, N)\n",
    "    phi = np.linspace(0, 2*np.pi, N)\n",
    "    dtheta = theta[1] - theta[0]\n",
    "    dphi = phi[1] - phi[0]\n",
    "    TH, PH = np.meshgrid(theta, phi)\n",
    "\n",
    "    Y1 = sph_harm(m1, l1, PH, TH)\n",
    "    Y2 = sph_harm(m2, l2, PH, TH)\n",
    "    integrand = np.conjugate(Y1) * Y2 * np.sin(TH)\n",
    "    integral = np.sum(integrand) * dtheta * dphi\n",
    "    return integral\n",
    "\n",
    "val_same = orthogonality(2, 1, 2, 1)\n",
    "val_diff = orthogonality(2, 1, 3, 0)\n",
    "\n",
    "print(f\"⟨Y₂¹ | Y₂¹⟩ = {np.real(val_same):.5f}\")\n",
    "print(f\"⟨Y₂¹ | Y₃⁰⟩ = {np.real(val_diff):.5e}\")"
   ]
  },
  {
   "cell_type": "markdown",
   "metadata": {},
   "source": [
    "---\n",
    "## 🧠 Physical Interpretation\n",
    "\n",
    "- **ℓ (ell)** determines the angular frequency or *complexity* of the pattern (number of lobes).\n",
    "- **m** determines the orientation and azimuthal dependence.\n",
    "- Each \\( Y_{\\ell m} \\) transforms predictably under 3D rotations — this is the foundation of *E(3)-equivariance*.\n",
    "\n",
    "In ACE, combinations of \\( R_n(r) Y_{\\ell m}(\\hat{r}) \\) are used to describe angular dependencies of atomic environments.\n",
    "\n",
    "---\n",
    "## 🎯 Summary\n",
    "\n",
    "- Spherical harmonics form an orthonormal angular basis.\n",
    "- They describe the shape of atomic neighbor densities.\n",
    "- Their transformation under SO(3) rotations underpins equivariant models such as ACE, MACE, and NequIP.\n",
    "\n",
    "Next: move to `02_clebsch_gordan.ipynb` to explore **coupling of angular momenta** via Clebsch–Gordan coefficients."
   ]
  }
 ],
 "metadata": {
  "kernelspec": {
   "display_name": "Python 3",
   "language": "python",
   "name": "python3"
  },
  "language_info": {
   "name": "python",
   "version": "3.10"
  }
 },
 "nbformat": 4,
 "nbformat_minor": 5
}
