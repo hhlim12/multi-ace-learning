# ---
# 00_vectors_and_rotations.ipynb
# ---

import numpy as np
import matplotlib.pyplot as plt

# Define rotation matrices
def rotation_matrix(axis, theta):
    axis = np.asarray(axis) / np.linalg.norm(axis)
    a = np.cos(theta / 2.0)
    b, c, d = -axis * np.sin(theta / 2.0)
    return np.array([
        [a*a + b*b - c*c - d*d, 2*(b*c - a*d), 2*(b*d + a*c)],
        [2*(b*c + a*d), a*a + c*c - b*b - d*d, 2*(c*d - a*b)],
        [2*(b*d - a*c), 2*(c*d + a*b), a*a + d*d - b*b - c*c]
    ])

# Create a unit vector
v = np.array([1, 0, 0])

# Rotate it
Rz = rotation_matrix([0, 0, 1], np.pi/4)
v_rot = Rz @ v

fig = plt.figure()
ax = fig.add_subplot(111, projection="3d")

ax.quiver(0,0,0, v[0], v[1], v[2], color="blue", label="original", lw=3)
ax.quiver(0,0,0, v_rot[0], v_rot[1], v_rot[2], color="red", label="rotated", lw=3)

ax.set_xlim([-1,1])
ax.set_ylim([-1,1])
ax.set_zlim([-1,1])
ax.legend()
ax.set_title("Rotation of a vector around z-axis (45°)")
plt.show()
